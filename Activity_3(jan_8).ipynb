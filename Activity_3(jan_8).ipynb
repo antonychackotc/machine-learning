{
  "cells": [
    {
      "cell_type": "markdown",
      "metadata": {
        "id": "view-in-github",
        "colab_type": "text"
      },
      "source": [
        "<a href=\"https://colab.research.google.com/github/antonychackotc/machine-learning/blob/main/Activity_3(jan_8).ipynb\" target=\"_parent\"><img src=\"https://colab.research.google.com/assets/colab-badge.svg\" alt=\"Open In Colab\"/></a>"
      ]
    },
    {
      "cell_type": "markdown",
      "source": [
        "# **upload a file then train model on uploaded file data one by one to find Linear Reggressor or decession tree Regressor or logistic Regressor or Decession tree classifier**"
      ],
      "metadata": {
        "id": "a4zVwvae_KRf"
      }
    },
    {
      "cell_type": "code",
      "execution_count": 1,
      "metadata": {
        "colab": {
          "base_uri": "https://localhost:8080/"
        },
        "id": "RmyHav_Na5x_",
        "outputId": "7482ae33-042c-4d7a-c95d-48ed3b0bb16e"
      },
      "outputs": [
        {
          "output_type": "stream",
          "name": "stdout",
          "text": [
            "\u001b[2K     \u001b[90m━━━━━━━━━━━━━━━━━━━━━━━━━━━━━━━━━━━━━━━━\u001b[0m \u001b[32m44.3/44.3 kB\u001b[0m \u001b[31m1.6 MB/s\u001b[0m eta \u001b[36m0:00:00\u001b[0m\n",
            "\u001b[2K   \u001b[90m━━━━━━━━━━━━━━━━━━━━━━━━━━━━━━━━━━━━━━━━\u001b[0m \u001b[32m9.1/9.1 MB\u001b[0m \u001b[31m52.7 MB/s\u001b[0m eta \u001b[36m0:00:00\u001b[0m\n",
            "\u001b[2K   \u001b[90m━━━━━━━━━━━━━━━━━━━━━━━━━━━━━━━━━━━━━━━━\u001b[0m \u001b[32m6.9/6.9 MB\u001b[0m \u001b[31m84.3 MB/s\u001b[0m eta \u001b[36m0:00:00\u001b[0m\n",
            "\u001b[2K   \u001b[90m━━━━━━━━━━━━━━━━━━━━━━━━━━━━━━━━━━━━━━━━\u001b[0m \u001b[32m79.1/79.1 kB\u001b[0m \u001b[31m6.9 MB/s\u001b[0m eta \u001b[36m0:00:00\u001b[0m\n",
            "\u001b[?25h\u001b[31mERROR: Could not find a version that satisfies the requirement localtunnel (from versions: none)\u001b[0m\u001b[31m\n",
            "\u001b[0m\u001b[31mERROR: No matching distribution found for localtunnel\u001b[0m\u001b[31m\n",
            "\u001b[0m"
          ]
        }
      ],
      "source": [
        "!pip install -q streamlit\n",
        "!pip install -q pyngrok\n",
        "!pip install -q localtunnel"
      ]
    },
    {
      "cell_type": "markdown",
      "metadata": {
        "id": "PpTkkM2diCYy"
      },
      "source": [
        "# **Select Feature column also Both Categorical and numerical**"
      ]
    },
    {
      "cell_type": "markdown",
      "source": [
        "#**1. Classification Algorithms**\n",
        "\n",
        "**a. Logistic Regression**\n",
        "\n",
        "When Used: If the target variable is categorical with 2 unique classes (binary classification).\n",
        "\n",
        "Library: sklearn.linear_model.LogisticRegression\n",
        "\n",
        "Use Case: Predicting binary outcomes, e.g., Yes/No, Pass/Fail.\n",
        "\n",
        "**b. Decision Tree Classifier**\n",
        "\n",
        "When Used: If the target variable is categorical with more than 2 unique classes (multi-class classification).\n",
        "\n",
        "Library: sklearn.tree.DecisionTreeClassifier\n",
        "\n",
        "Use Case: Multi-class classification, e.g., Predicting species of flowers.\n",
        "\n",
        "#**2. Regression Algorithms**\n",
        "\n",
        "**a. Linear Regression**\n",
        "\n",
        "When Used: If the target variable is numerical and continuous (e.g., house prices, temperatures).\n",
        "\n",
        "Library: sklearn.linear_model.LinearRegression\n",
        "\n",
        "Use Case: Predicting continuous values.\n",
        "\n",
        "**b. Decision Tree Regressor**\n",
        "\n",
        "When Used: If the target variable is numerical but discrete (e.g., predicting age, number of items sold).\n",
        "\n",
        "Library: sklearn.tree.DecisionTreeRegressor\n",
        "\n",
        "Use Case: Predicting numerical values with discrete outputs"
      ],
      "metadata": {
        "id": "PBKCQcos3ECv"
      }
    },
    {
      "cell_type": "code",
      "source": [
        "%%writefile app1.py"
      ],
      "metadata": {
        "colab": {
          "base_uri": "https://localhost:8080/"
        },
        "id": "VsktjtCE9-_L",
        "outputId": "f0053009-3361-4ab8-f37c-e1c33fc1a51c"
      },
      "execution_count": 2,
      "outputs": [
        {
          "output_type": "stream",
          "name": "stdout",
          "text": [
            "Writing app1.py\n"
          ]
        }
      ]
    },
    {
      "cell_type": "code",
      "execution_count": 3,
      "metadata": {
        "colab": {
          "base_uri": "https://localhost:8080/"
        },
        "id": "ve8rcZJuiBy-",
        "outputId": "53760ef2-9bae-4879-9bdc-6e94c62a1abd"
      },
      "outputs": [
        {
          "output_type": "stream",
          "name": "stdout",
          "text": [
            "Overwriting app1.py\n"
          ]
        }
      ],
      "source": [
        "%%writefile app1.py\n",
        "\n",
        "import streamlit as st\n",
        "import pandas as pd\n",
        "from sklearn.model_selection import train_test_split\n",
        "from sklearn.linear_model import LinearRegression, LogisticRegression\n",
        "from sklearn.tree import DecisionTreeRegressor, DecisionTreeClassifier\n",
        "from sklearn.metrics import mean_squared_error, accuracy_score, classification_report\n",
        "from sklearn.preprocessing import LabelEncoder\n",
        "\n",
        "# Title and description\n",
        "st.title(\"Dataset Upload and Model Selection\")\n",
        "st.write(\"Upload your dataset, choose your feature columns and target column, select a model, and train it.\")\n",
        "\n",
        "# Step 1: Upload dataset\n",
        "uploaded_file = st.file_uploader(\"Upload your dataset (CSV file)\", type=[\"csv\"])\n",
        "\n",
        "if uploaded_file is not None:\n",
        "    try:\n",
        "        # Load the dataset into a Pandas DataFrame\n",
        "        data = pd.read_csv(uploaded_file)\n",
        "        st.write(\"### Dataset Preview:\")\n",
        "        st.dataframe(data.head())\n",
        "\n",
        "        # Step 2: Select feature and target columns\n",
        "        st.write(\"### Select your feature columns and target column\")\n",
        "\n",
        "        # Multiselect for feature columns\n",
        "        feature_columns = st.multiselect(\"Choose feature columns (independent variables):\", options=data.columns)\n",
        "\n",
        "        # Dropdown for target column\n",
        "        target_column = st.selectbox(\"Choose the target column (dependent variable):\", options=data.columns)\n",
        "\n",
        "        # Step 3: Model selection\n",
        "        st.write(\"### Select the model\")\n",
        "        model_choice = st.selectbox(\"Choose the model to train:\", [\"Linear Regression\", \"Logistic Regression\", \"Decision Tree Classifier\", \"Decision Tree Regressor\"])\n",
        "\n",
        "        if feature_columns and target_column:\n",
        "            st.write(f\"You selected the following feature columns: {feature_columns}\")\n",
        "            st.write(f\"You selected '{target_column}' as your target column.\")\n",
        "\n",
        "            # Ensure the target column is numeric for regression or classification\n",
        "            if model_choice in [\"Linear Regression\", \"Decision Tree Regressor\"]:\n",
        "                if not pd.api.types.is_numeric_dtype(data[target_column]):\n",
        "                    st.error(\"Target column must be numeric for regression.\")\n",
        "                else:\n",
        "                    # Prepare features (X) and target (y)\n",
        "                    X = data[feature_columns]\n",
        "                    y = data[target_column]\n",
        "\n",
        "                    # Split the data into training and testing sets\n",
        "                    X_train, X_test, y_train, y_test = train_test_split(X, y, test_size=0.2, random_state=42)\n",
        "\n",
        "                    # Train the selected model\n",
        "                    if model_choice == \"Linear Regression\":\n",
        "                        model = LinearRegression()\n",
        "                        model.fit(X_train, y_train)\n",
        "\n",
        "                        # Evaluate the model\n",
        "                        y_pred = model.predict(X_test)\n",
        "                        mse = mean_squared_error(y_test, y_pred)\n",
        "                        st.write(f\"### Model Trained! Mean Squared Error: {mse:.2f}\")\n",
        "\n",
        "                    elif model_choice == \"Decision Tree Regressor\":\n",
        "                        model = DecisionTreeRegressor()\n",
        "                        model.fit(X_train, y_train)\n",
        "\n",
        "                        # Evaluate the model\n",
        "                        y_pred = model.predict(X_test)\n",
        "                        mse = mean_squared_error(y_test, y_pred)\n",
        "                        st.write(f\"### Model Trained! Mean Squared Error: {mse:.2f}\")\n",
        "\n",
        "            elif model_choice in [\"Logistic Regression\", \"Decision Tree Classifier\"]:\n",
        "                # Ensure the target column is categorical for classification\n",
        "                if pd.api.types.is_numeric_dtype(data[target_column]):\n",
        "                    st.error(\"Target column must be categorical for classification.\")\n",
        "                else:\n",
        "                    # Encode target variable if categorical\n",
        "                    le = LabelEncoder()\n",
        "                    y = le.fit_transform(data[target_column])\n",
        "\n",
        "                    # Prepare features (X)\n",
        "                    X = data[feature_columns]\n",
        "\n",
        "                    # Split the data into training and testing sets\n",
        "                    X_train, X_test, y_train, y_test = train_test_split(X, y, test_size=0.2, random_state=42)\n",
        "\n",
        "                    # Train the selected model\n",
        "                    if model_choice == \"Logistic Regression\":\n",
        "                        model = LogisticRegression()\n",
        "                        model.fit(X_train, y_train)\n",
        "\n",
        "                        # Evaluate the model\n",
        "                        y_pred = model.predict(X_test)\n",
        "                        st.write(\"### Classification Report\")\n",
        "                        st.text(classification_report(y_test, y_pred))\n",
        "                        st.write(f\"### Accuracy: {accuracy_score(y_test, y_pred):.2f}\")\n",
        "\n",
        "                    elif model_choice == \"Decision Tree Classifier\":\n",
        "                        model = DecisionTreeClassifier()\n",
        "                        model.fit(X_train, y_train)\n",
        "\n",
        "                        # Evaluate the model\n",
        "                        y_pred = model.predict(X_test)\n",
        "                        st.write(\"### Classification Report\")\n",
        "                        st.text(classification_report(y_test, y_pred))\n",
        "                        st.write(f\"### Accuracy: {accuracy_score(y_test, y_pred):.2f}\")\n",
        "\n",
        "            # Prediction section\n",
        "            st.write(\"### Enter data for prediction\")\n",
        "            input_data = {}\n",
        "            for col in feature_columns:\n",
        "                input_data[col] = st.number_input(f\"Enter value for {col}\", value=0.0)\n",
        "\n",
        "            # Convert input data to DataFrame for prediction\n",
        "            input_df = pd.DataFrame([input_data])\n",
        "\n",
        "            if model_choice in [\"Linear Regression\", \"Decision Tree Regressor\"]:\n",
        "                prediction = model.predict(input_df)[0]\n",
        "                st.write(f\"### Prediction: {prediction:.2f}\")\n",
        "\n",
        "            elif model_choice in [\"Logistic Regression\", \"Decision Tree Classifier\"]:\n",
        "                prediction = le.inverse_transform([model.predict(input_df)[0]])[0]\n",
        "                st.write(f\"### Prediction: {prediction}\")\n",
        "\n",
        "    except Exception as e:\n",
        "        st.error(f\"An error occurred: {e}\")\n",
        "else:\n",
        "    st.write(\"Please upload a dataset to get started.\")\n"
      ]
    },
    {
      "cell_type": "code",
      "source": [
        "ipv4 = !curl ipv4.icanhazip.com\n",
        "ipv4"
      ],
      "metadata": {
        "colab": {
          "base_uri": "https://localhost:8080/"
        },
        "id": "C_SXr1CyxWVL",
        "outputId": "8eba20c0-ad92-426e-8663-5b98a1b6ca6f"
      },
      "execution_count": 4,
      "outputs": [
        {
          "output_type": "execute_result",
          "data": {
            "text/plain": [
              "['34.106.10.62']"
            ]
          },
          "metadata": {},
          "execution_count": 4
        }
      ]
    },
    {
      "cell_type": "code",
      "execution_count": 5,
      "metadata": {
        "colab": {
          "base_uri": "https://localhost:8080/"
        },
        "id": "LezB9_J7bX-H",
        "outputId": "6efcadfc-c611-4c14-bf0b-952744db1bbd"
      },
      "outputs": [
        {
          "output_type": "stream",
          "name": "stdout",
          "text": [
            "Streamlit app is running at NgrokTunnel: \"https://76e3-34-106-10-62.ngrok-free.app\" -> \"http://localhost:8501\"\n"
          ]
        }
      ],
      "source": [
        "from pyngrok import ngrok\n",
        "\n",
        "# Replace 'YOUR_AUTHTOKEN' with your actual ngrok authtoken\n",
        "ngrok.set_auth_token(\"2rI2XurhgC2fxlYDtteHntWpCJf_5b1kDx2SLmwgq8GukDEyc\")\n",
        "\n",
        "# Run the Streamlit app in the background\n",
        "!streamlit run app1.py &>/dev/null&\n",
        "\n",
        "# Create a public URL using ngrok\n",
        "try:\n",
        "    public_url = ngrok.connect(8501)\n",
        "    print(f\"Streamlit app is running at {public_url}\")\n",
        "except Exception as e:\n",
        "    print(f\"Error: {e}\")\n",
        "    print(\"Trying to run with localtunnel\")\n",
        "    !streamlit run app1.py &>/content/logs.txt & npx localtunnel --port 8501"
      ]
    },
    {
      "cell_type": "code",
      "execution_count": 5,
      "metadata": {
        "id": "X3u_I-Sfbqav"
      },
      "outputs": [],
      "source": []
    }
  ],
  "metadata": {
    "colab": {
      "provenance": [],
      "authorship_tag": "ABX9TyMVJjFRnqHxDrfteM1Ub3KS",
      "include_colab_link": true
    },
    "kernelspec": {
      "display_name": "Python 3",
      "name": "python3"
    },
    "language_info": {
      "name": "python"
    }
  },
  "nbformat": 4,
  "nbformat_minor": 0
}