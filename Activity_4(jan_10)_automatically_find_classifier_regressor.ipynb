{
  "nbformat": 4,
  "nbformat_minor": 0,
  "metadata": {
    "colab": {
      "provenance": [],
      "authorship_tag": "ABX9TyPWU+MindmENkQqSPC2Mg5l",
      "include_colab_link": true
    },
    "kernelspec": {
      "name": "python3",
      "display_name": "Python 3"
    },
    "language_info": {
      "name": "python"
    }
  },
  "cells": [
    {
      "cell_type": "markdown",
      "metadata": {
        "id": "view-in-github",
        "colab_type": "text"
      },
      "source": [
        "<a href=\"https://colab.research.google.com/github/antonychackotc/machine-learning/blob/main/Activity_4(jan_10)_automatically_find_classifier_regressor.ipynb\" target=\"_parent\"><img src=\"https://colab.research.google.com/assets/colab-badge.svg\" alt=\"Open In Colab\"/></a>"
      ]
    },
    {
      "cell_type": "markdown",
      "source": [
        "# **upload a file then train model on uploaded file data its Automatically find Linear Reggressor or decession tree Regressor or logistic Regressor or Decession tree classifier based on uploaded file character**"
      ],
      "metadata": {
        "id": "aoZhytLvBma7"
      }
    },
    {
      "cell_type": "code",
      "execution_count": 1,
      "metadata": {
        "colab": {
          "base_uri": "https://localhost:8080/"
        },
        "id": "-zF6k5g0BkN9",
        "outputId": "1afc4885-ee91-4898-ad7c-984ca826231a"
      },
      "outputs": [
        {
          "output_type": "stream",
          "name": "stdout",
          "text": [
            "\u001b[2K     \u001b[90m━━━━━━━━━━━━━━━━━━━━━━━━━━━━━━━━━━━━━━━━\u001b[0m \u001b[32m44.3/44.3 kB\u001b[0m \u001b[31m1.7 MB/s\u001b[0m eta \u001b[36m0:00:00\u001b[0m\n",
            "\u001b[2K   \u001b[90m━━━━━━━━━━━━━━━━━━━━━━━━━━━━━━━━━━━━━━━━\u001b[0m \u001b[32m9.1/9.1 MB\u001b[0m \u001b[31m48.2 MB/s\u001b[0m eta \u001b[36m0:00:00\u001b[0m\n",
            "\u001b[2K   \u001b[90m━━━━━━━━━━━━━━━━━━━━━━━━━━━━━━━━━━━━━━━━\u001b[0m \u001b[32m6.9/6.9 MB\u001b[0m \u001b[31m63.1 MB/s\u001b[0m eta \u001b[36m0:00:00\u001b[0m\n",
            "\u001b[2K   \u001b[90m━━━━━━━━━━━━━━━━━━━━━━━━━━━━━━━━━━━━━━━━\u001b[0m \u001b[32m79.1/79.1 kB\u001b[0m \u001b[31m4.9 MB/s\u001b[0m eta \u001b[36m0:00:00\u001b[0m\n",
            "\u001b[?25h\u001b[31mERROR: Could not find a version that satisfies the requirement localtunnel (from versions: none)\u001b[0m\u001b[31m\n",
            "\u001b[0m\u001b[31mERROR: No matching distribution found for localtunnel\u001b[0m\u001b[31m\n",
            "\u001b[0m"
          ]
        }
      ],
      "source": [
        "!pip install -q streamlit\n",
        "!pip install -q pyngrok\n",
        "!pip install -q localtunnel"
      ]
    },
    {
      "cell_type": "code",
      "source": [
        "%%writefile app1.py\n",
        "\n",
        "import streamlit as st\n",
        "import pandas as pd\n",
        "from sklearn.model_selection import train_test_split\n",
        "from sklearn.linear_model import LinearRegression, LogisticRegression\n",
        "from sklearn.tree import DecisionTreeRegressor, DecisionTreeClassifier\n",
        "from sklearn.metrics import mean_squared_error, accuracy_score, classification_report\n",
        "from sklearn.preprocessing import LabelEncoder\n",
        "\n",
        "# Title and description\n",
        "st.title(\"Dataset Upload and Auto Model Selection\")\n",
        "st.write(\"Upload your dataset, and the app will automatically select the appropriate model based on the target column's characteristics.\")\n",
        "\n",
        "# Step 1: Upload dataset\n",
        "uploaded_file = st.file_uploader(\"Upload your dataset (CSV file)\", type=[\"csv\"])\n",
        "\n",
        "if uploaded_file is not None:\n",
        "    try:\n",
        "        # Load the dataset into a Pandas DataFrame\n",
        "        data = pd.read_csv(uploaded_file)\n",
        "        st.write(\"### Dataset Preview:\")\n",
        "        st.dataframe(data.head())\n",
        "\n",
        "        # Step 2: Select feature and target columns\n",
        "        st.write(\"### Select your feature columns and target column\")\n",
        "\n",
        "        # Multiselect for feature columns\n",
        "        feature_columns = st.multiselect(\"Choose feature columns (independent variables):\", options=data.columns)\n",
        "\n",
        "        # Dropdown for target column\n",
        "        target_column = st.selectbox(\"Choose the target column (dependent variable):\", options=data.columns)\n",
        "\n",
        "        if feature_columns and target_column:\n",
        "            st.write(f\"You selected the following feature columns: {feature_columns}\")\n",
        "            st.write(f\"You selected '{target_column}' as your target column.\")\n",
        "\n",
        "            # Determine the type of target column (categorical or numeric)\n",
        "            if pd.api.types.is_numeric_dtype(data[target_column]):\n",
        "                st.write(\"Target column is numeric. Selecting a regression model.\")\n",
        "                model_choice = \"Regression\"\n",
        "            else:\n",
        "                st.write(\"Target column is categorical. Selecting a classification model.\")\n",
        "                model_choice = \"Classification\"\n",
        "\n",
        "            # Prepare features (X) and target (y)\n",
        "            X = data[feature_columns]\n",
        "            y = data[target_column]\n",
        "\n",
        "            # Split the data into training and testing sets\n",
        "            X_train, X_test, y_train, y_test = train_test_split(X, y, test_size=0.2, random_state=42)\n",
        "\n",
        "            if model_choice == \"Regression\":\n",
        "                # Train both regression models\n",
        "                linear_model = LinearRegression()\n",
        "                decision_tree_regressor = DecisionTreeRegressor()\n",
        "\n",
        "                linear_model.fit(X_train, y_train)\n",
        "                decision_tree_regressor.fit(X_train, y_train)\n",
        "\n",
        "                # Evaluate the models\n",
        "                y_pred_linear = linear_model.predict(X_test)\n",
        "                y_pred_tree = decision_tree_regressor.predict(X_test)\n",
        "\n",
        "                mse_linear = mean_squared_error(y_test, y_pred_linear)\n",
        "                mse_tree = mean_squared_error(y_test, y_pred_tree)\n",
        "\n",
        "                st.write(f\"### Linear Regression MSE: {mse_linear:.2f}\")\n",
        "                st.write(f\"### Decision Tree Regressor MSE: {mse_tree:.2f}\")\n",
        "\n",
        "                # Select the best model\n",
        "                if mse_linear < mse_tree:\n",
        "                    selected_model = linear_model\n",
        "                    st.write(\"Selected Model: Linear Regression\")\n",
        "                else:\n",
        "                    selected_model = decision_tree_regressor\n",
        "                    st.write(\"Selected Model: Decision Tree Regressor\")\n",
        "\n",
        "            elif model_choice == \"Classification\":\n",
        "                # Encode target variable if categorical\n",
        "                le = LabelEncoder()\n",
        "                y = le.fit_transform(y)\n",
        "\n",
        "                # Train both classification models\n",
        "                logistic_model = LogisticRegression()\n",
        "                decision_tree_classifier = DecisionTreeClassifier()\n",
        "\n",
        "                logistic_model.fit(X_train, y_train)\n",
        "                decision_tree_classifier.fit(X_train, y_train)\n",
        "\n",
        "                # Evaluate the models\n",
        "                y_pred_logistic = logistic_model.predict(X_test)\n",
        "                y_pred_tree = decision_tree_classifier.predict(X_test)\n",
        "\n",
        "                acc_logistic = accuracy_score(y_test, y_pred_logistic)\n",
        "                acc_tree = accuracy_score(y_test, y_pred_tree)\n",
        "\n",
        "                st.write(f\"### Logistic Regression Accuracy: {acc_logistic:.2f}\")\n",
        "                st.write(f\"### Decision Tree Classifier Accuracy: {acc_tree:.2f}\")\n",
        "\n",
        "                # Select the best model\n",
        "                if acc_logistic > acc_tree:\n",
        "                    selected_model = logistic_model\n",
        "                    st.write(\"Selected Model: Logistic Regression\")\n",
        "                else:\n",
        "                    selected_model = decision_tree_classifier\n",
        "                    st.write(\"Selected Model: Decision Tree Classifier\")\n",
        "\n",
        "            # Prediction section\n",
        "            st.write(\"### Enter data for prediction\")\n",
        "            input_data = {}\n",
        "            for col in feature_columns:\n",
        "                input_data[col] = st.number_input(f\"Enter value for {col}\", value=0.0)\n",
        "\n",
        "            # Convert input data to DataFrame for prediction\n",
        "            input_df = pd.DataFrame([input_data])\n",
        "\n",
        "            if model_choice == \"Regression\":\n",
        "                prediction = selected_model.predict(input_df)[0]\n",
        "                st.write(f\"### Prediction: {prediction:.2f}\")\n",
        "            elif model_choice == \"Classification\":\n",
        "                prediction = le.inverse_transform([selected_model.predict(input_df)[0]])[0]\n",
        "                st.write(f\"### Prediction: {prediction}\")\n",
        "\n",
        "    except Exception as e:\n",
        "        st.error(f\"An error occurred: {e}\")\n",
        "else:\n",
        "    st.write(\"Please upload a dataset to get started.\")\n"
      ],
      "metadata": {
        "colab": {
          "base_uri": "https://localhost:8080/"
        },
        "id": "Ks365x7yBxEt",
        "outputId": "0b77adb9-d535-4e1c-dfff-4e45c6b6be23"
      },
      "execution_count": 2,
      "outputs": [
        {
          "output_type": "stream",
          "name": "stdout",
          "text": [
            "Writing app1.py\n"
          ]
        }
      ]
    },
    {
      "cell_type": "code",
      "source": [
        "from pyngrok import ngrok\n",
        "\n",
        "# Replace 'YOUR_AUTHTOKEN' with your actual ngrok authtoken\n",
        "ngrok.set_auth_token(\"2rI2XurhgC2fxlYDtteHntWpCJf_5b1kDx2SLmwgq8GukDEyc\")\n",
        "\n",
        "# Run the Streamlit app in the background\n",
        "!streamlit run app1.py &>/dev/null&\n",
        "\n",
        "# Create a public URL using ngrok\n",
        "try:\n",
        "    public_url = ngrok.connect(8501)\n",
        "    print(f\"Streamlit app is running at {public_url}\")\n",
        "except Exception as e:\n",
        "    print(f\"Error: {e}\")\n",
        "    print(\"Trying to run with localtunnel\")\n",
        "    !streamlit run app1.py &>/content/logs.txt & npx localtunnel --port 8501"
      ],
      "metadata": {
        "id": "VwBy_TfQB96q"
      },
      "execution_count": null,
      "outputs": []
    }
  ]
}