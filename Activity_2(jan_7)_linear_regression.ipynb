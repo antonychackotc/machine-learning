{
  "nbformat": 4,
  "nbformat_minor": 0,
  "metadata": {
    "colab": {
      "provenance": [],
      "authorship_tag": "ABX9TyOPY/oSqxkG6oaN8Uff+UIu",
      "include_colab_link": true
    },
    "kernelspec": {
      "name": "python3",
      "display_name": "Python 3"
    },
    "language_info": {
      "name": "python"
    }
  },
  "cells": [
    {
      "cell_type": "markdown",
      "metadata": {
        "id": "view-in-github",
        "colab_type": "text"
      },
      "source": [
        "<a href=\"https://colab.research.google.com/github/antonychackotc/machine-learning/blob/main/Activity_2(jan_7)_linear_regression.ipynb\" target=\"_parent\"><img src=\"https://colab.research.google.com/assets/colab-badge.svg\" alt=\"Open In Colab\"/></a>"
      ]
    },
    {
      "cell_type": "markdown",
      "source": [
        "# **data -> target -> d-type -> numerical -> continous -> linear regression**"
      ],
      "metadata": {
        "id": "lqo7mhh-pIOx"
      }
    },
    {
      "cell_type": "code",
      "execution_count": 1,
      "metadata": {
        "colab": {
          "base_uri": "https://localhost:8080/"
        },
        "id": "WGzT1AdkeTQ9",
        "outputId": "edf1b261-aac9-4c2b-e39a-a2547f12cf15"
      },
      "outputs": [
        {
          "output_type": "stream",
          "name": "stdout",
          "text": [
            "\u001b[2K     \u001b[90m━━━━━━━━━━━━━━━━━━━━━━━━━━━━━━━━━━━━━━━━\u001b[0m \u001b[32m44.3/44.3 kB\u001b[0m \u001b[31m3.0 MB/s\u001b[0m eta \u001b[36m0:00:00\u001b[0m\n",
            "\u001b[2K   \u001b[90m━━━━━━━━━━━━━━━━━━━━━━━━━━━━━━━━━━━━━━━━\u001b[0m \u001b[32m9.1/9.1 MB\u001b[0m \u001b[31m71.5 MB/s\u001b[0m eta \u001b[36m0:00:00\u001b[0m\n",
            "\u001b[2K   \u001b[90m━━━━━━━━━━━━━━━━━━━━━━━━━━━━━━━━━━━━━━━━\u001b[0m \u001b[32m6.9/6.9 MB\u001b[0m \u001b[31m100.3 MB/s\u001b[0m eta \u001b[36m0:00:00\u001b[0m\n",
            "\u001b[2K   \u001b[90m━━━━━━━━━━━━━━━━━━━━━━━━━━━━━━━━━━━━━━━━\u001b[0m \u001b[32m79.1/79.1 kB\u001b[0m \u001b[31m7.9 MB/s\u001b[0m eta \u001b[36m0:00:00\u001b[0m\n",
            "\u001b[?25h\u001b[31mERROR: Could not find a version that satisfies the requirement localtunnel (from versions: none)\u001b[0m\u001b[31m\n",
            "\u001b[0m\u001b[31mERROR: No matching distribution found for localtunnel\u001b[0m\u001b[31m\n",
            "\u001b[0m"
          ]
        }
      ],
      "source": [
        "!pip install -q streamlit\n",
        "!pip install -q pyngrok\n",
        "!pip install -q localtunnel"
      ]
    },
    {
      "cell_type": "code",
      "source": [
        "%%writefile app1.py\n",
        "\n",
        "import streamlit as st\n",
        "import pandas as pd\n",
        "from sklearn.model_selection import train_test_split\n",
        "from sklearn.linear_model import LinearRegression\n",
        "from sklearn.metrics import mean_squared_error\n",
        "\n",
        "# Title and description\n",
        "st.title(\"Dataset Upload and Linear Regression Model\")\n",
        "st.write(\"Upload your dataset, choose your feature columns and target column, and train a linear regression model.\")\n",
        "\n",
        "# Step 1: Upload dataset\n",
        "uploaded_file = st.file_uploader(\"Upload your dataset (CSV file)\", type=[\"csv\"])\n",
        "\n",
        "if uploaded_file is not None:\n",
        "    try:\n",
        "        # Load the dataset into a Pandas DataFrame\n",
        "        data = pd.read_csv(uploaded_file)\n",
        "        st.write(\"### Dataset Preview:\")\n",
        "        st.dataframe(data.head())\n",
        "\n",
        "        # Step 2: Select feature and target columns\n",
        "        st.write(\"### Select your feature columns and target column\")\n",
        "\n",
        "        # Multiselect for feature columns\n",
        "        feature_columns = st.multiselect(\"Choose feature columns (independent variables):\", options=data.columns)\n",
        "\n",
        "        # Dropdown for target column\n",
        "        target_column = st.selectbox(\"Choose the target column (dependent variable):\", options=data.columns)\n",
        "\n",
        "        if feature_columns and target_column:\n",
        "            st.write(f\"You selected the following feature columns: {feature_columns}\")\n",
        "            st.write(f\"You selected '{target_column}' as your target column.\")\n",
        "\n",
        "            # Ensure the target column is numeric\n",
        "            if not pd.api.types.is_numeric_dtype(data[target_column]):\n",
        "                st.error(\"Target column must be numeric for linear regression.\")\n",
        "            else:\n",
        "                # Ensure all selected feature columns are numeric\n",
        "                if not all(pd.api.types.is_numeric_dtype(data[col]) for col in feature_columns):\n",
        "                    st.error(\"All selected feature columns must be numeric for linear regression.\")\n",
        "                else:\n",
        "                    # Prepare features (X) and target (y)\n",
        "                    X = data[feature_columns]\n",
        "                    y = data[target_column]\n",
        "\n",
        "                    # Split the data into training and testing sets\n",
        "                    X_train, X_test, y_train, y_test = train_test_split(X, y, test_size=0.2, random_state=42)\n",
        "\n",
        "                    # Train the Linear Regression model\n",
        "                    model = LinearRegression()\n",
        "                    model.fit(X_train, y_train)\n",
        "\n",
        "                    # Evaluate the model\n",
        "                    y_pred = model.predict(X_test)\n",
        "                    mse = mean_squared_error(y_test, y_pred)\n",
        "                    st.write(f\"### Model Trained! Mean Squared Error: {mse:.2f}\")\n",
        "\n",
        "                    # Prediction section\n",
        "                    st.write(\"### Enter data for prediction\")\n",
        "                    input_data = {}\n",
        "                    for col in feature_columns:\n",
        "                        input_data[col] = st.number_input(f\"Enter value for {col}\", value=0.0)\n",
        "\n",
        "                    # Convert input data to DataFrame for prediction\n",
        "                    input_df = pd.DataFrame([input_data])\n",
        "                    prediction = model.predict(input_df)[0]\n",
        "\n",
        "                    st.write(f\"### Prediction: {prediction:.2f}\")\n",
        "\n",
        "    except Exception as e:\n",
        "        st.error(f\"An error occurred: {e}\")\n",
        "else:\n",
        "    st.write(\"Please upload a dataset to get started.\")"
      ],
      "metadata": {
        "colab": {
          "base_uri": "https://localhost:8080/"
        },
        "id": "-wST_ZqveX4a",
        "outputId": "f608b710-c891-4e23-f1c9-9570ec03faca"
      },
      "execution_count": 2,
      "outputs": [
        {
          "output_type": "stream",
          "name": "stdout",
          "text": [
            "Writing app1.py\n"
          ]
        }
      ]
    },
    {
      "cell_type": "code",
      "source": [
        "from pyngrok import ngrok\n",
        "\n",
        "# Replace 'YOUR_AUTHTOKEN' with your actual ngrok authtoken\n",
        "ngrok.set_auth_token(\"2rI2XurhgC2fxlYDtteHntWpCJf_5b1kDx2SLmwgq8GukDEyc\")\n",
        "\n",
        "# Run the Streamlit app in the background\n",
        "!streamlit run app1.py &>/dev/null&\n",
        "\n",
        "# Create a public URL using ngrok\n",
        "try:\n",
        "    public_url = ngrok.connect(8501)\n",
        "    print(f\"Streamlit app is running at {public_url}\")\n",
        "except Exception as e:\n",
        "    print(f\"Error: {e}\")\n",
        "    print(\"Trying to run with localtunnel\")\n",
        "    !streamlit run app1.py &>/content/logs.txt & npx localtunnel --port 8501"
      ],
      "metadata": {
        "colab": {
          "base_uri": "https://localhost:8080/"
        },
        "id": "3nxaVQbfemyu",
        "outputId": "cb593ce9-3f6a-4dd5-9289-efa54eeae68f"
      },
      "execution_count": 3,
      "outputs": [
        {
          "output_type": "stream",
          "name": "stdout",
          "text": [
            "Streamlit app is running at NgrokTunnel: \"https://843c-34-125-197-138.ngrok-free.app\" -> \"http://localhost:8501\"\n"
          ]
        }
      ]
    }
  ]
}